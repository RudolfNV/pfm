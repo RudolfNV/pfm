{
 "cells": [
  {
   "cell_type": "markdown",
   "metadata": {},
   "source": [
    "# Documentation\n",
    "\n",
    "This is the second of three chapters that aim to move from writing code\n",
    "that works to writing software. In this particular chapter we will consider how\n",
    "to write documentation for our code.\n",
    "\n",
    "```{important}\n",
    "In this chapter we will cover:\n",
    "\n",
    "- Four components of documentation:\n",
    "    - Tutorials\n",
    "    - How to guides\n",
    "    - Explanation\n",
    "    - Reference\n",
    "```"
   ]
  }
 ],
 "metadata": {
  "jupytext": {
   "formats": "ipynb,md:myst"
  },
  "kernelspec": {
   "display_name": "Python 3",
   "language": "python",
   "name": "python3"
  },
  "language_info": {
   "codemirror_mode": {
    "name": "ipython",
    "version": 3
   },
   "file_extension": ".py",
   "mimetype": "text/x-python",
   "name": "python",
   "nbconvert_exporter": "python",
   "pygments_lexer": "ipython3",
   "version": "3.8.3"
  }
 },
 "nbformat": 4,
 "nbformat_minor": 4
}
