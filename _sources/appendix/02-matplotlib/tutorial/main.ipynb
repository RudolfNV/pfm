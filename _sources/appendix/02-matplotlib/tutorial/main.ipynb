{
 "cells": [
  {
   "cell_type": "markdown",
   "metadata": {},
   "source": [
    "# Tutorial\n",
    "\n",
    "To demonstrate the use case of Matplotlib we will consider a particular set of\n",
    "data called [Anscombe's\n",
    "Quartet](https://en.wikipedia.org/wiki/Anscombe%27s_quartet).\n",
    "\n",
    "````{admonition} Problem\n",
    "Consider the following 4 data sets:\n",
    "\n",
    "```{list-table} Set 1\n",
    ":header-rows: 1\n",
    "\n",
    "* - x\n",
    "  - y\n",
    "* - 10.0\n",
    "  - 8.04\n",
    "* - 8.0\n",
    "  - 6.95\n",
    "* - 13.0\n",
    "  - 7.58\n",
    "* - 9.0\n",
    "  - 8.81\n",
    "* - 11.0\n",
    "  - 8.33\n",
    "* - 14.0\n",
    "  - 9.96\n",
    "* - 6.0\n",
    "  - 7.24\n",
    "* - 4.0\n",
    "  - 4.26\n",
    "* - 12.0\n",
    "  - 10.84\n",
    "* - 7.0\n",
    "  - 4.82\n",
    "* - 5.0\n",
    "  - 5.68\n",
    "```\n",
    "\n",
    "```{list-table} Set 2\n",
    ":header-rows: 1\n",
    "\n",
    "* - 10.0\n",
    "  - 9.14\n",
    "* - 8.0\n",
    "  - 8.14\n",
    "* - 13.0\n",
    "  - 8.74\n",
    "* - 9.0\n",
    "  - 8.77\n",
    "* - 11.0\n",
    "  - 9.26\n",
    "* - 14.0\n",
    "  - 8.1\n",
    "* - 6.0\n",
    "  - 6.13\n",
    "* - 4.0\n",
    "  - 3.1\n",
    "* - 12.0\n",
    "  - 9.13\n",
    "* - 7.0\n",
    "  - 7.26\n",
    "* - 5.0\n",
    "  - 4.74\n",
    "```\n",
    "\n",
    "```{list-table} Set 3\n",
    ":header-rows: 1\n",
    "\n",
    "* - 10.0\n",
    "  - 7.46\n",
    "* - 8.0\n",
    "  - 6.77\n",
    "* - 13.0\n",
    "  - 12.74\n",
    "* - 9.0\n",
    "  - 7.11\n",
    "* - 11.0\n",
    "  - 7.81\n",
    "* - 14.0\n",
    "  - 8.84\n",
    "* - 6.0\n",
    "  - 6.08\n",
    "* - 4.0\n",
    "  - 5.39\n",
    "* - 12.0\n",
    "  - 8.15\n",
    "* - 7.0\n",
    "  - 6.42\n",
    "* - 5.0\n",
    "  - 5.73\n",
    "```\n",
    "\n",
    "```{list-table} Set 4\n",
    ":header-rows: 1\n",
    "\n",
    "* - 8.0\n",
    "  - 6.58\n",
    "* - 8.0\n",
    "  - 5.76\n",
    "* - 8.0\n",
    "  - 7.71\n",
    "* - 8.0\n",
    "  - 8.84\n",
    "* - 8.0\n",
    "  - 8.47\n",
    "* - 8.0\n",
    "  - 7.04\n",
    "* - 8.0\n",
    "  - 5.25\n",
    "* - 19.0\n",
    "  - 12.5\n",
    "* - 8.0\n",
    "  - 5.56\n",
    "* - 8.0\n",
    "  - 7.91\n",
    "* - 8.0\n",
    "  - 6.89\n",
    "```\n",
    "\n",
    "1. For every data set obtain:\n",
    "    1. The mean and standard deviation of $x$;\n",
    "    2. The mean and standard deviation of $y$.\n",
    "2. Plot a scatter plot of all 4 data sets of $y$ against $x$.\n",
    "3. Find a regression line that for $y$ against $x$ and add a plot of that to the\n",
    "   scatter plot.\n",
    "````\n",
    "\n",
    "We start this problem by creating tuples with values corresponding to each\n",
    "column of each data set:"
   ]
  },
  {
   "cell_type": "code",
   "execution_count": 1,
   "metadata": {},
   "outputs": [],
   "source": [
    "set_1_x = (10.0, 8.0, 13.0, 9.0, 11.0, 14.0, 6.0, 4.0, 12.0, 7.0, 5.0)\n",
    "set_1_y = (8.04, 6.95, 7.58, 8.81, 8.33, 9.96, 7.24, 4.26, 10.84, 4.82, 5.68)\n",
    "set_2_x = (10.0, 8.0, 13.0, 9.0, 11.0, 14.0, 6.0, 4.0, 12.0, 7.0, 5.0)\n",
    "set_2_y = (9.14, 8.14, 8.74, 8.77, 9.26, 8.1, 6.13, 3.1, 9.13, 7.26, 4.74)\n",
    "set_3_x = (10.0, 8.0, 13.0, 9.0, 11.0, 14.0, 6.0, 4.0, 12.0, 7.0, 5.0)\n",
    "set_3_y = (7.46, 6.77, 12.74, 7.11, 7.81, 8.84, 6.08, 5.39, 8.15, 6.42, 5.73)\n",
    "set_4_x = (8.0, 8.0, 8.0, 8.0, 8.0, 8.0, 8.0, 19.0, 8.0, 8.0, 8.0)\n",
    "set_4_y = (6.58, 5.76, 7.71, 8.84, 8.47, 7.04, 5.25, 12.5, 5.56, 7.91, 6.89)"
   ]
  },
  {
   "cell_type": "markdown",
   "metadata": {},
   "source": [
    "Now to compute the mean and standard deviation we will use `numpy`:"
   ]
  },
  {
   "cell_type": "code",
   "execution_count": 2,
   "metadata": {},
   "outputs": [
    {
     "name": "stdout",
     "output_type": "stream",
     "text": [
      "9.0 3.1622776601683795\n",
      "9.0 3.1622776601683795\n",
      "9.0 3.1622776601683795\n",
      "9.0 3.1622776601683795\n"
     ]
    }
   ],
   "source": [
    "import numpy as np\n",
    "\n",
    "for x in (set_1_x, set_2_x, set_3_x, set_4_x):\n",
    "    print(np.mean(x), np.std(x))"
   ]
  },
  {
   "cell_type": "markdown",
   "metadata": {},
   "source": [
    "We see that all the data sets have the same mean and standard deviation for $x$."
   ]
  },
  {
   "cell_type": "code",
   "execution_count": 3,
   "metadata": {},
   "outputs": [
    {
     "name": "stdout",
     "output_type": "stream",
     "text": [
      "7.500909090909093 1.937024215108669\n",
      "7.50090909090909 1.93710869148962\n",
      "7.5 1.9359329439927313\n",
      "7.500909090909091 1.9360806451340837\n"
     ]
    }
   ],
   "source": [
    "for y in (set_1_y, set_2_y, set_3_y, set_4_y):\n",
    "    print(np.mean(y), np.std(y))"
   ]
  },
  {
   "cell_type": "markdown",
   "metadata": {},
   "source": [
    "Similarly for $y$: all the data sets have approximately the same mean and\n",
    "standard deviation.\n",
    "\n",
    "We will now use `matplotlib` to plot a scatter plot of all the data sets:"
   ]
  },
  {
   "cell_type": "code",
   "execution_count": 4,
   "metadata": {
    "tags": [
     "nbval-ignore-output",
     "style-check-ignore"
    ]
   },
   "outputs": [
    {
     "data": {
      "image/png": "[encoded data removed]",
      "text/plain": [
       "<Figure size 432x288 with 1 Axes>"
      ]
     },
     "metadata": {
      "filenames": {
       "image/png": "/home/runner/work/pfm/pfm/_build/jupyter_execute/appendix/02-matplotlib/tutorial/main_7_0.png"
      },
      "needs_background": "light"
     },
     "output_type": "display_data"
    }
   ],
   "source": [
    "import matplotlib.pyplot as plt\n",
    "\n",
    "plt.figure()\n",
    "plt.scatter(set_1_x, set_1_y)\n",
    "plt.title(\"Data set I\")\n",
    "plt.xlabel(\"$x$\")\n",
    "plt.ylabel(\"$y$\");"
   ]
  },
  {
   "cell_type": "code",
   "execution_count": 5,
   "metadata": {
    "tags": [
     "nbval-ignore-output",
     "style-check-ignore"
    ]
   },
   "outputs": [
    {
     "data": {
      "image/png": "[encoded data removed]",
      "text/plain": [
       "<Figure size 432x288 with 1 Axes>"
      ]
     },
     "metadata": {
      "filenames": {
       "image/png": "/home/runner/work/pfm/pfm/_build/jupyter_execute/appendix/02-matplotlib/tutorial/main_8_0.png"
      },
      "needs_background": "light"
     },
     "output_type": "display_data"
    }
   ],
   "source": [
    "import matplotlib.pyplot as plt\n",
    "\n",
    "plt.figure()\n",
    "plt.scatter(set_2_x, set_2_y)\n",
    "plt.title(\"Data set II\")\n",
    "plt.xlabel(\"$x$\")\n",
    "plt.ylabel(\"$y$\");"
   ]
  },
  {
   "cell_type": "code",
   "execution_count": 6,
   "metadata": {
    "tags": [
     "nbval-ignore-output",
     "style-check-ignore"
    ]
   },
   "outputs": [
    {
     "data": {
      "image/png": "[encoded data removed]",
      "text/plain": [
       "<Figure size 432x288 with 1 Axes>"
      ]
     },
     "metadata": {
      "filenames": {
       "image/png": "/home/runner/work/pfm/pfm/_build/jupyter_execute/appendix/02-matplotlib/tutorial/main_9_0.png"
      },
      "needs_background": "light"
     },
     "output_type": "display_data"
    }
   ],
   "source": [
    "import matplotlib.pyplot as plt\n",
    "\n",
    "plt.figure()\n",
    "plt.scatter(set_3_x, set_3_y)\n",
    "plt.title(\"Data set III\")\n",
    "plt.xlabel(\"$x$\")\n",
    "plt.ylabel(\"$y$\");"
   ]
  },
  {
   "cell_type": "code",
   "execution_count": 7,
   "metadata": {
    "tags": [
     "nbval-ignore-output",
     "style-check-ignore"
    ]
   },
   "outputs": [
    {
     "data": {
      "image/png": "[encoded data removed]",
      "text/plain": [
       "<Figure size 432x288 with 1 Axes>"
      ]
     },
     "metadata": {
      "filenames": {
       "image/png": "/home/runner/work/pfm/pfm/_build/jupyter_execute/appendix/02-matplotlib/tutorial/main_10_0.png"
      },
      "needs_background": "light"
     },
     "output_type": "display_data"
    }
   ],
   "source": [
    "import matplotlib.pyplot as plt\n",
    "\n",
    "plt.figure()\n",
    "plt.scatter(set_4_x, set_4_y)\n",
    "plt.title(\"Data set IV\")\n",
    "plt.xlabel(\"$x$\")\n",
    "plt.ylabel(\"$y$\");"
   ]
  },
  {
   "cell_type": "markdown",
   "metadata": {},
   "source": [
    "It is clear that despite having differing means and standard deviations, the\n",
    "data sets are different.\n",
    "\n",
    "To fit a line of best fit we will using `numpy.polyfit` which fits a polynomial.\n",
    "We specify that we want a line (so a polynomial of degree 1):"
   ]
  },
  {
   "cell_type": "code",
   "execution_count": 8,
   "metadata": {
    "tags": [
     "nbval-ignore-output"
    ]
   },
   "outputs": [
    {
     "data": {
      "text/plain": [
       "array([0.50009091, 3.00009091])"
      ]
     },
     "execution_count": 8,
     "metadata": {},
     "output_type": "execute_result"
    }
   ],
   "source": [
    "coefficients = np.polyfit(set_1_x, set_1_y, 1)\n",
    "coefficients"
   ]
  },
  {
   "cell_type": "markdown",
   "metadata": {},
   "source": [
    "Here are each of the coefficients for the lines of best fit for each data set:"
   ]
  },
  {
   "cell_type": "code",
   "execution_count": 9,
   "metadata": {
    "tags": [
     "nbval-ignore-output"
    ]
   },
   "outputs": [
    {
     "name": "stdout",
     "output_type": "stream",
     "text": [
      "0.5000909090909095 3.000090909090909\n",
      "0.5000000000000003 3.00090909090909\n",
      "0.49972727272727313 3.002454545454545\n",
      "0.4999090909090908 3.0017272727272735\n"
     ]
    }
   ],
   "source": [
    "for x, y in (\n",
    "    (set_1_x, set_1_y),\n",
    "    (set_2_x, set_2_y),\n",
    "    (set_3_x, set_3_y),\n",
    "    (set_4_x, set_4_y),\n",
    "):\n",
    "    a, b = np.polyfit(x, y, 1)\n",
    "    print(a, b)"
   ]
  },
  {
   "cell_type": "markdown",
   "metadata": {},
   "source": [
    "All the coefficients are the same, we will go ahead and add a plot of them to\n",
    "each plot:"
   ]
  },
  {
   "cell_type": "code",
   "execution_count": 10,
   "metadata": {
    "tags": [
     "nbval-ignore-output",
     "style-check-ignore"
    ]
   },
   "outputs": [
    {
     "data": {
      "image/png": "[encoded data removed]",
      "text/plain": [
       "<Figure size 432x288 with 1 Axes>"
      ]
     },
     "metadata": {
      "filenames": {
       "image/png": "/home/runner/work/pfm/pfm/_build/jupyter_execute/appendix/02-matplotlib/tutorial/main_16_0.png"
      },
      "needs_background": "light"
     },
     "output_type": "display_data"
    }
   ],
   "source": [
    "import matplotlib.pyplot as plt\n",
    "\n",
    "x = set_1_x\n",
    "y = set_1_y\n",
    "title = \"Data set I\"\n",
    "\n",
    "coefficients = np.polyfit(x, y, 1)\n",
    "line_y = [a * x_value + b for x_value in x]\n",
    "\n",
    "plt.figure()\n",
    "plt.scatter(x, y)\n",
    "plt.plot(x, line_y, color=\"red\")\n",
    "plt.title(title)\n",
    "plt.xlabel(\"$x$\")\n",
    "plt.ylabel(\"$y$\");"
   ]
  },
  {
   "cell_type": "code",
   "execution_count": 11,
   "metadata": {
    "tags": [
     "nbval-ignore-output",
     "style-check-ignore"
    ]
   },
   "outputs": [
    {
     "data": {
      "image/png": "[encoded data removed]",
      "text/plain": [
       "<Figure size 432x288 with 1 Axes>"
      ]
     },
     "metadata": {
      "filenames": {
       "image/png": "/home/runner/work/pfm/pfm/_build/jupyter_execute/appendix/02-matplotlib/tutorial/main_17_0.png"
      },
      "needs_background": "light"
     },
     "output_type": "display_data"
    }
   ],
   "source": [
    "import matplotlib.pyplot as plt\n",
    "\n",
    "x = set_2_x\n",
    "y = set_2_y\n",
    "title = \"Data set II\"\n",
    "\n",
    "coefficients = np.polyfit(x, y, 1)\n",
    "line_y = [a * x_value + b for x_value in x]\n",
    "\n",
    "plt.figure()\n",
    "plt.scatter(x, y)\n",
    "plt.plot(x, line_y, color=\"red\")\n",
    "plt.title(title)\n",
    "plt.xlabel(\"$x$\")\n",
    "plt.ylabel(\"$y$\");"
   ]
  },
  {
   "cell_type": "code",
   "execution_count": 12,
   "metadata": {
    "tags": [
     "nbval-ignore-output",
     "style-check-ignore"
    ]
   },
   "outputs": [
    {
     "data": {
      "image/png": "[encoded data removed]",
      "text/plain": [
       "<Figure size 432x288 with 1 Axes>"
      ]
     },
     "metadata": {
      "filenames": {
       "image/png": "/home/runner/work/pfm/pfm/_build/jupyter_execute/appendix/02-matplotlib/tutorial/main_18_0.png"
      },
      "needs_background": "light"
     },
     "output_type": "display_data"
    }
   ],
   "source": [
    "import matplotlib.pyplot as plt\n",
    "\n",
    "x = set_3_x\n",
    "y = set_3_y\n",
    "title = \"Data set III\"\n",
    "\n",
    "coefficients = np.polyfit(x, y, 1)\n",
    "line_y = [a * x_value + b for x_value in x]\n",
    "\n",
    "plt.figure()\n",
    "plt.scatter(x, y)\n",
    "plt.plot(x, line_y, color=\"red\")\n",
    "plt.title(title)\n",
    "plt.xlabel(\"$x$\")\n",
    "plt.ylabel(\"$y$\");"
   ]
  },
  {
   "cell_type": "code",
   "execution_count": 13,
   "metadata": {
    "tags": [
     "nbval-ignore-output",
     "style-check-ignore"
    ]
   },
   "outputs": [
    {
     "data": {
      "image/png": "[encoded data removed]",
      "text/plain": [
       "<Figure size 432x288 with 1 Axes>"
      ]
     },
     "metadata": {
      "filenames": {
       "image/png": "/home/runner/work/pfm/pfm/_build/jupyter_execute/appendix/02-matplotlib/tutorial/main_19_0.png"
      },
      "needs_background": "light"
     },
     "output_type": "display_data"
    }
   ],
   "source": [
    "import matplotlib.pyplot as plt\n",
    "\n",
    "x = set_4_x\n",
    "y = set_4_y\n",
    "title = \"Data set IV\"\n",
    "\n",
    "coefficients = np.polyfit(x, y, 1)\n",
    "line_y = [a * x_value + b for x_value in x]\n",
    "\n",
    "plt.figure()\n",
    "plt.scatter(x, y)\n",
    "plt.plot(x, line_y, color=\"red\")\n",
    "plt.title(title)\n",
    "plt.xlabel(\"$x$\")\n",
    "plt.ylabel(\"$y$\");"
   ]
  },
  {
   "cell_type": "markdown",
   "metadata": {},
   "source": [
    "Anscombe's quartet is often used to demonstrate the importance of visualising\n",
    "data. In this particular exercise we have seen that 4 data sets have the same\n",
    "mean, standard deviation and line of best fit but are immediately different\n",
    "which is clear once visualised.\n",
    "\n",
    "```{important}\n",
    "In this chapter we have:\n",
    "\n",
    "- Plotted a scatter plot.\n",
    "- Add a plot of a line to our scatter plot.\n",
    "```"
   ]
  }
 ],
 "metadata": {
  "jupytext": {
   "formats": "ipynb,md:myst",
   "text_representation": {
    "extension": ".md",
    "format_name": "myst",
    "format_version": 0.12,
    "jupytext_version": "1.6.0"
   }
  },
  "kernelspec": {
   "display_name": "Python 3",
   "language": "python",
   "name": "python3"
  },
  "language_info": {
   "codemirror_mode": {
    "name": "ipython",
    "version": 3
   },
   "file_extension": ".py",
   "mimetype": "text/x-python",
   "name": "python",
   "nbconvert_exporter": "python",
   "pygments_lexer": "ipython3",
   "version": "3.8.5"
  },
  "source_map": [
   13,
   145,
   154,
   158,
   163,
   167,
   170,
   177,
   189,
   201,
   213,
   223,
   231,
   236,
   240,
   251,
   257,
   277,
   297,
   317,
   335
  ]
 },
 "nbformat": 4,
 "nbformat_minor": 4
}