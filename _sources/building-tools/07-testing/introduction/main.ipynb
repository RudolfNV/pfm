{
 "cells": [
  {
   "cell_type": "markdown",
   "id": "russian-thomas",
   "metadata": {},
   "source": [
    "# Testing\n",
    "\n",
    "This is the third and last chapter that aim to move from writing code\n",
    "that works to writing software. In this particular chapter we will consider how\n",
    "to write automated tests for our software.\n",
    "\n",
    "```{important}\n",
    "In this chapter we will cover:\n",
    "\n",
    "- Assert statements to test code.\n",
    "- Testing documentation.\n",
    "```\n",
    "\n",
    "\n",
    "\n",
    "```{toctree}\n",
    ":hidden:\n",
    ":titlesonly:\n",
    "\n",
    "\n",
    "../tutorial/main\n",
    "../how/main\n",
    "../exercises/main\n",
    "../solutions/main\n",
    "../why/main\n",
    "```"
   ]
  }
 ],
 "metadata": {
  "jupytext": {
   "formats": "ipynb,md:myst",
   "text_representation": {
    "extension": ".md",
    "format_name": "myst",
    "format_version": 0.12,
    "jupytext_version": "1.6.0"
   }
  },
  "kernelspec": {
   "display_name": "Python 3",
   "language": "python",
   "name": "python3"
  },
  "language_info": {
   "codemirror_mode": {
    "name": "ipython",
    "version": 3
   },
   "file_extension": ".py",
   "mimetype": "text/x-python",
   "name": "python",
   "nbconvert_exporter": "python",
   "pygments_lexer": "ipython3",
   "version": "3.8.6"
  },
  "source_map": [
   13
  ]
 },
 "nbformat": 4,
 "nbformat_minor": 5
}