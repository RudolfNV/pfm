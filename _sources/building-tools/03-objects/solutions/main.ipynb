{
 "cells": [
  {
   "cell_type": "markdown",
   "id": "6683a582",
   "metadata": {},
   "source": [
    "# Solutions\n",
    "\n",
    "## Question 1\n",
    "\n",
    "> `1`. Use the class created in {ref}`objects_tutorial` to find the roots of the\n",
    ">  following quadratics:\n",
    "\n",
    "> `1`. $f(x) = -4x ^ 2 + x + 6$\n",
    "\n",
    "First we define the class:"
   ]
  },
  {
   "cell_type": "code",
   "execution_count": 1,
   "id": "4467f8e8",
   "metadata": {},
   "outputs": [],
   "source": [
    "import math\n",
    "\n",
    "\n",
    "class QuadraticExpression:\n",
    "    \"\"\"A class for a quadratic expression\"\"\"\n",
    "\n",
    "    def __init__(self, a, b, c):\n",
    "        self.a = a\n",
    "        self.b = b\n",
    "        self.c = c\n",
    "        self.discriminant = self.b ** 2 - 4 * self.a * self.c\n",
    "\n",
    "    def get_roots(self):\n",
    "        \"\"\"Return the real valued roots of the quadratic expression\"\"\"\n",
    "        if self.discriminant >= 0:\n",
    "            x1 = -(self.b + math.sqrt(self.discriminant)) / (2 * self.a)\n",
    "            x2 = -(self.b - math.sqrt(self.discriminant)) / (2 * self.a)\n",
    "            return x1, x2\n",
    "        return ()\n",
    "\n",
    "    def __add__(self, other):\n",
    "        \"\"\"A magic method: let's us have addition between expressions\"\"\"\n",
    "        return QuadraticExpression(self.a + other.a, self.b + other.b, self.c + other.c)\n",
    "\n",
    "    def __repr__(self):\n",
    "        \"\"\"A magic method: changes the default way an instance is displayed\"\"\"\n",
    "        return f\"Quadratic expression: {self.a} x ^ 2 + {self.b} x + {self.c}\"\n",
    "\n",
    "\n",
    "class QuadraticExpressionWithAllRoots(QuadraticExpression):\n",
    "    \"\"\"\n",
    "    A class for a quadratic expression that can return imaginary roots\n",
    "\n",
    "    The `get_roots` function returns two tuples of the form (re, im) where re is\n",
    "    the real part and im is the imaginary part.\n",
    "    \"\"\"\n",
    "\n",
    "    def get_roots(self):\n",
    "        \"\"\"Return the real valued roots of the quadratic expression\"\"\"\n",
    "        if self.discriminant >= 0:\n",
    "            x1 = -(self.b + math.sqrt(self.discriminant)) / (2 * self.a)\n",
    "            x2 = -(self.b - math.sqrt(self.discriminant)) / (2 * self.a)\n",
    "            return (x1, 0), (x2, 0)\n",
    "\n",
    "        real_part = self.b / (2 * self.a)\n",
    "        im1 = math.sqrt(-self.discriminant) / (2 * self.a)\n",
    "        im2 = -math.sqrt(-self.discriminant) / (2 * self.a)\n",
    "        return ((real_part, im1), (real_part, im2))\n",
    "\n",
    "    def __add__(self, other):\n",
    "        \"\"\"A special method: let's us have addition between expressions\"\"\"\n",
    "        return QuadraticExpressionWithAllRoots(\n",
    "            self.a + other.a, self.b + other.b, self.c + other.c\n",
    "        )"
   ]
  },
  {
   "cell_type": "markdown",
   "id": "d42de467",
   "metadata": {},
   "source": [
    "Now we use it:"
   ]
  },
  {
   "cell_type": "code",
   "execution_count": 2,
   "id": "3531575f",
   "metadata": {},
   "outputs": [
    {
     "data": {
      "text/plain": [
       "((1.356107225224513, 0), (-1.106107225224513, 0))"
      ]
     },
     "execution_count": 2,
     "metadata": {},
     "output_type": "execute_result"
    }
   ],
   "source": [
    "f = QuadraticExpressionWithAllRoots(a=-4, b=1, c=6)\n",
    "f.get_roots()"
   ]
  },
  {
   "cell_type": "markdown",
   "id": "c7428e00",
   "metadata": {},
   "source": [
    "> `2`. $g(x) = 3x^2 - 6$"
   ]
  },
  {
   "cell_type": "code",
   "execution_count": 3,
   "id": "cba661c0",
   "metadata": {},
   "outputs": [
    {
     "data": {
      "text/plain": [
       "((-1.414213562373095, 0), (1.414213562373095, 0))"
      ]
     },
     "execution_count": 3,
     "metadata": {},
     "output_type": "execute_result"
    }
   ],
   "source": [
    "g = QuadraticExpressionWithAllRoots(a=3, b=0, c=-6)\n",
    "g.get_roots()"
   ]
  },
  {
   "cell_type": "markdown",
   "id": "00b80574",
   "metadata": {},
   "source": [
    "> `3`. $h(x) = f(x) + g(x)$"
   ]
  },
  {
   "cell_type": "code",
   "execution_count": 4,
   "id": "ea20f4c8",
   "metadata": {},
   "outputs": [
    {
     "data": {
      "text/plain": [
       "((1.0, 0), (0.0, 0))"
      ]
     },
     "execution_count": 4,
     "metadata": {},
     "output_type": "execute_result"
    }
   ],
   "source": [
    "h = f + g\n",
    "h.get_roots()"
   ]
  },
  {
   "cell_type": "markdown",
   "id": "9894c00a",
   "metadata": {},
   "source": [
    "## Question 2\n",
    "\n",
    "> `2`. Write a class for a Linear expression and use it to find the roots of the\n",
    ">  following expressions:\n",
    "\n",
    ">  `1`. $f(x) = 2x + 6$\n",
    "\n",
    "First we define the class:"
   ]
  },
  {
   "cell_type": "code",
   "execution_count": 5,
   "id": "0fbf9dd3",
   "metadata": {},
   "outputs": [],
   "source": [
    "import math\n",
    "\n",
    "\n",
    "class LinearExpression:\n",
    "    \"\"\"A class for a linear expression a x + b\"\"\"\n",
    "\n",
    "    def __init__(self, a, b):\n",
    "        self.a = a\n",
    "        self.b = b\n",
    "\n",
    "    def get_roots(self):\n",
    "        \"\"\"Return the roots of the linear expression\"\"\"\n",
    "        if self.a != 0:\n",
    "            return -self.b / self.a\n",
    "        return None\n",
    "\n",
    "    def __add__(self, other):\n",
    "        \"\"\"A magic method: let's us have addition between expressions\"\"\"\n",
    "        return LinearExpression(self.a + other.a, self.b + other.b)\n",
    "\n",
    "    def __repr__(self):\n",
    "        \"\"\"A magic method: changes the default way an instance is displayed\"\"\"\n",
    "        return f\"Linear expression: {self.a} x + {self.b}\""
   ]
  },
  {
   "cell_type": "markdown",
   "id": "47187227",
   "metadata": {},
   "source": [
    "Now we use it:"
   ]
  },
  {
   "cell_type": "code",
   "execution_count": 6,
   "id": "9ebcceca",
   "metadata": {},
   "outputs": [
    {
     "data": {
      "text/plain": [
       "-3.0"
      ]
     },
     "execution_count": 6,
     "metadata": {},
     "output_type": "execute_result"
    }
   ],
   "source": [
    "f = LinearExpression(a=2, b=6)\n",
    "f.get_roots()"
   ]
  },
  {
   "cell_type": "markdown",
   "id": "9ad4a650",
   "metadata": {},
   "source": [
    "> `2`. $g(x) = 3x - 6$"
   ]
  },
  {
   "cell_type": "code",
   "execution_count": 7,
   "id": "f66725f0",
   "metadata": {},
   "outputs": [
    {
     "data": {
      "text/plain": [
       "2.0"
      ]
     },
     "execution_count": 7,
     "metadata": {},
     "output_type": "execute_result"
    }
   ],
   "source": [
    "g = LinearExpression(a=3, b=-6)\n",
    "g.get_roots()"
   ]
  },
  {
   "cell_type": "markdown",
   "id": "71c2818e",
   "metadata": {},
   "source": [
    "> `3`. $h(x) = f(x) + g(x)$"
   ]
  },
  {
   "cell_type": "code",
   "execution_count": 8,
   "id": "98df8d0b",
   "metadata": {},
   "outputs": [
    {
     "data": {
      "text/plain": [
       "0.0"
      ]
     },
     "execution_count": 8,
     "metadata": {},
     "output_type": "execute_result"
    }
   ],
   "source": [
    "h = f + g\n",
    "h.get_roots()"
   ]
  },
  {
   "cell_type": "markdown",
   "id": "3ce11e30",
   "metadata": {},
   "source": [
    "## Question 3\n",
    "\n",
    "> `3`. If rain drops were to fall randomly on a square of side length $2r$ the\n",
    ">  probability of the drops landing in an inscribed circle of radius $r$ would\n",
    ">  be given by:\n",
    "\n",
    ">  $$\n",
    "      P = \\frac{\\text{Area of circle}}{\\text{Area of square}}=\\frac{\\pi r ^2}{4r^2}=\\frac{\\pi}{4}\n",
    "  $$\n",
    "\n",
    ">  Thus, if we can approximate $P$ then we can approximate $\\pi$ as $4P$. In this\n",
    ">  question we will write code to approximate $P$ using the random library.\n",
    "\n",
    ">  First create the following class:\n",
    "\n",
    ">  ```\n",
    ">  class Drop:\n",
    ">      \"\"\"\n",
    ">      A class used to represent a random rain drop falling on a square of\n",
    ">      length r.\n",
    ">      \"\"\"\n",
    ">\n",
    ">      def __init__(self, r=1):\n",
    ">          self.x = (0.5 - random.random()) * 2 * r\n",
    ">          self.y = (0.5 - random.random()) * 2 * r\n",
    ">          self.in_circle = (self.y) ** 2 + (self.x) ** 2 <= r ** 2\n",
    ">  ```"
   ]
  },
  {
   "cell_type": "code",
   "execution_count": 9,
   "id": "5fa36be9",
   "metadata": {},
   "outputs": [],
   "source": [
    "import random\n",
    "\n",
    "\n",
    "class Drop:\n",
    "    \"\"\"\n",
    "    A class used to represent a random rain drop falling on a square of\n",
    "    length r.\n",
    "    \"\"\"\n",
    "\n",
    "    def __init__(self, r=1):\n",
    "        self.x = (0.5 - random.random()) * 2 * r\n",
    "        self.y = (0.5 - random.random()) * 2 * r\n",
    "        self.in_circle = (self.y) ** 2 + (self.x) ** 2 <= r ** 2"
   ]
  },
  {
   "cell_type": "markdown",
   "id": "e0b829d7",
   "metadata": {},
   "source": [
    ">  To approximate $P$ create $N=1000$ instances of Drops and count the\n",
    ">  number of those that are in the circle. Use this to approximate $\\pi$.\n",
    "\n",
    "We start by creating the required number of drops:"
   ]
  },
  {
   "cell_type": "code",
   "execution_count": 10,
   "id": "f29614d3",
   "metadata": {},
   "outputs": [],
   "source": [
    "number_of_instances = 10000\n",
    "random.seed(0)\n",
    "drops = [Drop() for number in range(number_of_instances)]"
   ]
  },
  {
   "cell_type": "markdown",
   "id": "d3e82065",
   "metadata": {},
   "source": [
    "Now we count the number in the circle:"
   ]
  },
  {
   "cell_type": "code",
   "execution_count": 11,
   "id": "cbd23a95",
   "metadata": {},
   "outputs": [
    {
     "data": {
      "text/plain": [
       "7809"
      ]
     },
     "execution_count": 11,
     "metadata": {},
     "output_type": "execute_result"
    }
   ],
   "source": [
    "number_in_circle = len([drop for drop in drops if drop.in_circle])\n",
    "number_in_circle"
   ]
  },
  {
   "cell_type": "markdown",
   "id": "1e58d6b7",
   "metadata": {},
   "source": [
    "The number in the circle leads to the probability $P$:"
   ]
  },
  {
   "cell_type": "code",
   "execution_count": 12,
   "id": "9a16f838",
   "metadata": {},
   "outputs": [],
   "source": [
    "P = number_in_circle / number_of_instances"
   ]
  },
  {
   "cell_type": "markdown",
   "id": "603ed344",
   "metadata": {},
   "source": [
    "And $\\pi$ can be approximated:"
   ]
  },
  {
   "cell_type": "code",
   "execution_count": 13,
   "id": "80505ab4",
   "metadata": {},
   "outputs": [
    {
     "data": {
      "text/plain": [
       "3.1236"
      ]
     },
     "execution_count": 13,
     "metadata": {},
     "output_type": "execute_result"
    }
   ],
   "source": [
    "4 * P"
   ]
  },
  {
   "cell_type": "markdown",
   "id": "e712910e",
   "metadata": {},
   "source": [
    "## Question 4\n",
    "\n",
    "> `4`. In a similar fashion to question 3, approximate the integral\n",
    ">  $\\int_{0}^11-x^2\\;dx$. Recall that the integral corresponds to the area\n",
    ">  under a curve.\n",
    "\n",
    "We create a different drop class changing the `in_circle` attribute to\n",
    "`under_curve` and simplifying where the `x` and `y` are sampled from."
   ]
  },
  {
   "cell_type": "code",
   "execution_count": 14,
   "id": "caf49ee3",
   "metadata": {},
   "outputs": [],
   "source": [
    "class Drop:\n",
    "    \"\"\"\n",
    "    A class used to represent a random rain drop falling on a square of\n",
    "    length 1.\n",
    "    \"\"\"\n",
    "\n",
    "    def __init__(self):\n",
    "        self.x = random.random()\n",
    "        self.y = random.random()\n",
    "        self.under_curve = self.y <= 1 - self.x ** 2"
   ]
  },
  {
   "cell_type": "markdown",
   "id": "c6515e1e",
   "metadata": {},
   "source": [
    "Now we repeat the steps of question 3:"
   ]
  },
  {
   "cell_type": "code",
   "execution_count": 15,
   "id": "2ac90580",
   "metadata": {},
   "outputs": [],
   "source": [
    "number_of_instances = 10000\n",
    "random.seed(0)\n",
    "drops = [Drop() for number in range(number_of_instances)]"
   ]
  },
  {
   "cell_type": "markdown",
   "id": "21ade89e",
   "metadata": {},
   "source": [
    "Now we count the number in the circle:"
   ]
  },
  {
   "cell_type": "code",
   "execution_count": 16,
   "id": "9faefff6",
   "metadata": {},
   "outputs": [
    {
     "data": {
      "text/plain": [
       "6646"
      ]
     },
     "execution_count": 16,
     "metadata": {},
     "output_type": "execute_result"
    }
   ],
   "source": [
    "number_under_curve = len([drop for drop in drops if drop.under_curve])\n",
    "number_under_curve"
   ]
  },
  {
   "cell_type": "markdown",
   "id": "6a6e90f6",
   "metadata": {},
   "source": [
    "In this particular problem the area of the square is 1 so the probability of\n",
    "being under the curve is equal to the 1: $P=\\frac{\\int_{0}^11-x^2\\;dx}{1}$."
   ]
  },
  {
   "cell_type": "code",
   "execution_count": 17,
   "id": "174d7178",
   "metadata": {},
   "outputs": [
    {
     "data": {
      "text/plain": [
       "0.6646"
      ]
     },
     "execution_count": 17,
     "metadata": {},
     "output_type": "execute_result"
    }
   ],
   "source": [
    "number_under_curve / number_of_instances"
   ]
  },
  {
   "cell_type": "markdown",
   "id": "7988750f",
   "metadata": {},
   "source": [
    "We can confirm this:"
   ]
  },
  {
   "cell_type": "code",
   "execution_count": 18,
   "id": "482b9ed7",
   "metadata": {},
   "outputs": [
    {
     "data": {
      "text/latex": [
       "$\\displaystyle \\frac{2}{3}$"
      ],
      "text/plain": [
       "2/3"
      ]
     },
     "execution_count": 18,
     "metadata": {},
     "output_type": "execute_result"
    }
   ],
   "source": [
    "import sympy as sym\n",
    "\n",
    "x = sym.Symbol(\"x\")\n",
    "sym.integrate(1 - x ** 2, (x, 0, 1))"
   ]
  }
 ],
 "metadata": {
  "jupytext": {
   "formats": "ipynb,md:myst",
   "text_representation": {
    "extension": ".md",
    "format_name": "myst",
    "format_version": 0.12,
    "jupytext_version": "1.6.0"
   }
  },
  "kernelspec": {
   "display_name": "Python 3",
   "language": "python",
   "name": "python3"
  },
  "language_info": {
   "codemirror_mode": {
    "name": "ipython",
    "version": 3
   },
   "file_extension": ".py",
   "mimetype": "text/x-python",
   "name": "python",
   "nbconvert_exporter": "python",
   "pygments_lexer": "ipython3",
   "version": "3.8.14"
  },
  "source_map": [
   13,
   26,
   81,
   85,
   88,
   92,
   95,
   99,
   102,
   113,
   137,
   141,
   144,
   148,
   151,
   155,
   158,
   188,
   202,
   209,
   213,
   217,
   220,
   224,
   226,
   230,
   232,
   243,
   254,
   258,
   262,
   266,
   269,
   274,
   276,
   280
  ]
 },
 "nbformat": 4,
 "nbformat_minor": 5
}