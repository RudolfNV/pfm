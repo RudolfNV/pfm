{
 "cells": [
  {
   "cell_type": "markdown",
   "id": "excellent-escape",
   "metadata": {},
   "source": [
    "# Python for Mathematics\n",
    "\n",
    "```{figure} ./img/cover/main.png\n",
    "---\n",
    "width: 50%\n",
    "---\n",
    "```\n",
    "\n",
    "\n",
    "\n",
    "```{toctree}\n",
    ":hidden:\n",
    ":titlesonly:\n",
    ":caption: Overview\n",
    "\n",
    "overview/introduction/main\n",
    "```\n",
    "\n",
    "\n",
    "```{toctree}\n",
    ":hidden:\n",
    ":titlesonly:\n",
    ":caption: Tools for mathematics\n",
    "\n",
    "tools-for-mathematics/01-using-notebooks/introduction/main\n",
    "tools-for-mathematics/02-algebra/introduction/main\n",
    "tools-for-mathematics/03-calculus/introduction/main\n",
    "tools-for-mathematics/04-matrices/introduction/main\n",
    "tools-for-mathematics/05-combinations-permutations/introduction/main\n",
    "tools-for-mathematics/06-probability/introduction/main\n",
    "tools-for-mathematics/07-sequences/introduction/main\n",
    "```\n",
    "\n",
    "\n",
    "```{toctree}\n",
    ":hidden:\n",
    ":titlesonly:\n",
    ":caption: Building tools\n",
    "\n",
    "building-tools/01-variables-conditionals-loops/introduction/main\n",
    "building-tools/02-functions-and-data-structures/introduction/main\n",
    "building-tools/03-objects/introduction/main\n",
    "building-tools/04-editor-and-cli/introduction/main\n",
    "building-tools/05-modularisation/introduction/main\n",
    "building-tools/06-documentation/introduction/main\n",
    "building-tools/07-testing/introduction/main\n",
    "```\n",
    "\n",
    "\n",
    "```{toctree}\n",
    ":hidden:\n",
    ":titlesonly:\n",
    ":caption: Further information\n",
    "\n",
    "further-information/01-numpy/introduction/main\n",
    "further-information/02-matplotlib/introduction/main\n",
    "further-information/03-kernel/introduction/main\n",
    "further-information/04-pip-installing/introduction/main\n",
    "zbibliography\n",
    "```\n",
    "\n",
    "\n",
    "```{toctree}\n",
    ":hidden:\n",
    ":titlesonly:\n",
    ":caption: About this book\n",
    "\n",
    "about-this-book/main\n",
    "```"
   ]
  }
 ],
 "metadata": {
  "jupytext": {
   "formats": "ipynb,md:myst",
   "text_representation": {
    "extension": ".md",
    "format_name": "myst",
    "format_version": 0.12,
    "jupytext_version": "1.6.0"
   }
  },
  "kernelspec": {
   "display_name": "Python 3",
   "language": "python",
   "name": "python3"
  },
  "language_info": {
   "codemirror_mode": {
    "name": "ipython",
    "version": 3
   },
   "file_extension": ".py",
   "mimetype": "text/x-python",
   "name": "python",
   "nbconvert_exporter": "python",
   "pygments_lexer": "ipython3",
   "version": "3.8.7"
  },
  "source_map": [
   13
  ]
 },
 "nbformat": 4,
 "nbformat_minor": 5
}