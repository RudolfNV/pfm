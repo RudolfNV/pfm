{
 "cells": [
  {
   "cell_type": "markdown",
   "id": "split-mercy",
   "metadata": {},
   "source": [
    "# Further information\n",
    "\n",
    "## What are the differences between recursion and iteration?\n",
    "\n",
    "When giving instructions to a computer it is possible to use recursion to\n",
    "directly implement a common mathematical definition. For example consider the\n",
    "following sequence:\n",
    "\n",
    "$$\n",
    "    \\left\\{\\begin{array}{l}\n",
    "    a_1 = 1\\\\\n",
    "    a_{n + 1}= 3a_n, n > 1\n",
    "    \\end{array}\\right.\n",
    "$$\n",
    "\n",
    "We can define this in Python as follows:"
   ]
  },
  {
   "cell_type": "code",
   "execution_count": 1,
   "id": "stuffed-bosnia",
   "metadata": {},
   "outputs": [],
   "source": [
    "def generate_sequence(n):\n",
    "    \"\"\"\n",
    "    Generate the sequence defined by:\n",
    "\n",
    "    a_1 = 1\n",
    "    a_n = 3 a_{n - 1}\n",
    "\n",
    "    This is done using recursion.\n",
    "    \"\"\"\n",
    "    if n == 1:\n",
    "        return 1\n",
    "    return 3 * generate_sequence(n - 1)"
   ]
  },
  {
   "cell_type": "markdown",
   "id": "provincial-official",
   "metadata": {},
   "source": [
    "The first 6 terms:"
   ]
  },
  {
   "cell_type": "code",
   "execution_count": 2,
   "id": "lonely-algorithm",
   "metadata": {},
   "outputs": [
    {
     "data": {
      "text/plain": [
       "[1, 3, 9, 27, 81, 243]"
      ]
     },
     "execution_count": 2,
     "metadata": {},
     "output_type": "execute_result"
    }
   ],
   "source": [
    "[generate_sequence(n) for n in range(1, 7)]"
   ]
  },
  {
   "cell_type": "markdown",
   "id": "recovered-midnight",
   "metadata": {},
   "source": [
    "We note that in this case this corresponds to powers of $3$, and indeed we can\n",
    "prove that: $a_n = 3 ^ {n - 1}$. We will not carry out the proof here but one\n",
    "approach to doing it would be to use proof by induction which is closely related\n",
    "to recursive functions.\n",
    "\n",
    "We can write a different python function that uses this formulae. This is called\n",
    "**iteration**:"
   ]
  },
  {
   "cell_type": "code",
   "execution_count": 3,
   "id": "unusual-stuff",
   "metadata": {},
   "outputs": [],
   "source": [
    "def calculate_sequence(n):\n",
    "    \"\"\"\n",
    "    Calculate the nth term of the sequence defined by:\n",
    "\n",
    "    a_1 = 1\n",
    "    a_n = 3 a_{n - 1}\n",
    "\n",
    "    This is done using iteration using the direct formula:\n",
    "\n",
    "    a_n = 3 ^ n\n",
    "    \"\"\"\n",
    "    return 3 ** (n - 1)"
   ]
  },
  {
   "cell_type": "code",
   "execution_count": 4,
   "id": "reverse-electron",
   "metadata": {},
   "outputs": [
    {
     "data": {
      "text/plain": [
       "[1, 3, 9, 27, 81, 243]"
      ]
     },
     "execution_count": 4,
     "metadata": {},
     "output_type": "execute_result"
    }
   ],
   "source": [
    "[calculate_sequence(n) for n in range(1, 7)]"
   ]
  },
  {
   "cell_type": "markdown",
   "id": "empty-zealand",
   "metadata": {},
   "source": [
    "We can in fact use a Jupyter [magic\n",
    "command](https://ipython.readthedocs.io/en/stable/interactive/magics.html) to\n",
    "time the run time of a command. It is clear that recursion is slower."
   ]
  },
  {
   "cell_type": "code",
   "execution_count": 5,
   "id": "numerical-nursery",
   "metadata": {
    "tags": [
     "nbval-ignore-output",
     "style-check-ignore"
    ]
   },
   "outputs": [
    {
     "name": "stdout",
     "output_type": "stream",
     "text": [
      "43.1 µs ± 528 ns per loop (mean ± std. dev. of 7 runs, 10000 loops each)\n"
     ]
    }
   ],
   "source": [
    "%timeit [generate_sequence(n) for n in range(1, 25)]"
   ]
  },
  {
   "cell_type": "code",
   "execution_count": 6,
   "id": "unlike-assessment",
   "metadata": {
    "tags": [
     "nbval-ignore-output",
     "style-check-ignore"
    ]
   },
   "outputs": [
    {
     "name": "stdout",
     "output_type": "stream",
     "text": [
      "9.94 µs ± 151 ns per loop (mean ± std. dev. of 7 runs, 100000 loops each)\n"
     ]
    }
   ],
   "source": [
    "%timeit [calculate_sequence(n) for n in range(1, 25)]"
   ]
  },
  {
   "cell_type": "markdown",
   "id": "liquid-timer",
   "metadata": {},
   "source": [
    "In practice:\n",
    "\n",
    "- Using recursion is powerful as it can be used to directly implement recursive\n",
    "  definitions.\n",
    "- Using iteration is more computationally efficient but it is not always\n",
    "  straightforward to obtain an iterative formula.\n",
    "\n",
    "(what_is_caching)=\n",
    "\n",
    "## What is caching\n",
    "\n",
    "One of the reasons that recursion is computationally inefficient is that it\n",
    "always has to recalculate previously calculated values.\n",
    "\n",
    "For example:\n",
    "\n",
    "$$\n",
    "    \\left\\{\\begin{array}{l}\n",
    "    a_1 = 1\\\\\n",
    "    a_{n + 1}= 3a_n, n > 1\n",
    "    \\end{array}\\right.\n",
    "$$\n",
    "\n",
    "One way to overcome this is to use caching which means that when a function is\n",
    "called for a value it has already computed it remembers the value.\n",
    "\n",
    "Python has a caching tool available in the functools library:"
   ]
  },
  {
   "cell_type": "code",
   "execution_count": 7,
   "id": "extreme-queen",
   "metadata": {},
   "outputs": [],
   "source": [
    "import functools\n",
    "\n",
    "\n",
    "def generate_sequence(n):\n",
    "    \"\"\"\n",
    "    Generate the sequence defined by:\n",
    "\n",
    "    a_1 = 1\n",
    "    a_n = 3 a_{n - 1}\n",
    "\n",
    "    This is done using recursion.\n",
    "    \"\"\"\n",
    "    if n == 1:\n",
    "        return 1\n",
    "    return 3 * generate_sequence(n - 1)\n",
    "\n",
    "\n",
    "@functools.lru_cache()\n",
    "def cached_generate_sequence(n):\n",
    "    \"\"\"\n",
    "    Generate the sequence defined by:\n",
    "\n",
    "    a_1 = 1\n",
    "    a_n = 3 a_{n - 1}\n",
    "\n",
    "    This is done using recursion but also includes a cache.\n",
    "    \"\"\"\n",
    "    if n == 1:\n",
    "        return 1\n",
    "    return 3 * cached_generate_sequence(n - 1)"
   ]
  },
  {
   "cell_type": "markdown",
   "id": "divine-helmet",
   "metadata": {},
   "source": [
    "Timing both these approaches confirms a substantial increase in time for the\n",
    "cached version."
   ]
  },
  {
   "cell_type": "code",
   "execution_count": 8,
   "id": "upper-doubt",
   "metadata": {
    "tags": [
     "nbval-ignore-output",
     "style-check-ignore"
    ]
   },
   "outputs": [
    {
     "name": "stdout",
     "output_type": "stream",
     "text": [
      "42.2 µs ± 324 ns per loop (mean ± std. dev. of 7 runs, 10000 loops each)\n"
     ]
    }
   ],
   "source": [
    "%timeit [generate_sequence(n) for n in range(1, 25)]"
   ]
  },
  {
   "cell_type": "code",
   "execution_count": 9,
   "id": "egyptian-wells",
   "metadata": {
    "tags": [
     "nbval-ignore-output",
     "style-check-ignore"
    ]
   },
   "outputs": [
    {
     "name": "stdout",
     "output_type": "stream",
     "text": [
      "2.78 µs ± 36.2 ns per loop (mean ± std. dev. of 7 runs, 100000 loops each)\n"
     ]
    }
   ],
   "source": [
    "%timeit [cached_generate_sequence(n) for n in range(1, 25)]"
   ]
  }
 ],
 "metadata": {
  "jupytext": {
   "formats": "ipynb,md:myst",
   "text_representation": {
    "extension": ".md",
    "format_name": "myst",
    "format_version": 0.12,
    "jupytext_version": "1.6.0"
   }
  },
  "kernelspec": {
   "display_name": "Python 3",
   "language": "python",
   "name": "python3"
  },
  "language_info": {
   "codemirror_mode": {
    "name": "ipython",
    "version": 3
   },
   "file_extension": ".py",
   "mimetype": "text/x-python",
   "name": "python",
   "nbconvert_exporter": "python",
   "pygments_lexer": "ipython3",
   "version": "3.8.7"
  },
  "source_map": [
   13,
   32,
   45,
   49,
   51,
   61,
   76,
   78,
   84,
   90,
   94,
   124,
   155,
   160,
   166
  ]
 },
 "nbformat": 4,
 "nbformat_minor": 5
}