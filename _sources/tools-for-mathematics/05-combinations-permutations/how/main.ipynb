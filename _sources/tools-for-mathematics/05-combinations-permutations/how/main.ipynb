{
 "cells": [
  {
   "cell_type": "markdown",
   "id": "ed8d7cb4",
   "metadata": {},
   "source": [
    "# How\n",
    "\n",
    "(create_a_tuple)=\n",
    "\n",
    "## Create a tuple\n",
    "\n",
    "To create a tuple which is an ordered collection of objects that cannot be\n",
    "changed we use the `()` brackets.\n",
    "\n",
    "````{tip}\n",
    "```\n",
    "collection = (value_1, value_2, value_3, …, value_n)\n",
    "```\n",
    "````\n",
    "\n",
    "For example:"
   ]
  },
  {
   "cell_type": "code",
   "execution_count": 1,
   "id": "602ceb0b",
   "metadata": {},
   "outputs": [
    {
     "data": {
      "text/plain": [
       "('Bread', 'Biscuits', 'Coffee')"
      ]
     },
     "execution_count": 1,
     "metadata": {},
     "output_type": "execute_result"
    }
   ],
   "source": [
    "basket = (\"Bread\", \"Biscuits\", \"Coffee\")\n",
    "basket"
   ]
  },
  {
   "cell_type": "markdown",
   "id": "5de16337",
   "metadata": {},
   "source": [
    "## How to access particular elements in a tuple\n",
    "\n",
    "If we need to we can access elements of this collection using `[]` brackets. The\n",
    "first element is has index `0`:\n",
    "\n",
    "```python\n",
    "tuple[index]\n",
    "```\n",
    "\n",
    "For example:"
   ]
  },
  {
   "cell_type": "code",
   "execution_count": 2,
   "id": "72a08d5b",
   "metadata": {},
   "outputs": [
    {
     "data": {
      "text/plain": [
       "'Biscuits'"
      ]
     },
     "execution_count": 2,
     "metadata": {},
     "output_type": "execute_result"
    }
   ],
   "source": [
    "basket[1]"
   ]
  },
  {
   "cell_type": "markdown",
   "id": "c6007b10",
   "metadata": {},
   "source": [
    "(creating_boolean_variables)=\n",
    "\n",
    "## Creating boolean variables\n",
    "\n",
    "A boolean variable has one of two values: `True` or `False`.\n",
    "\n",
    "To create a boolean variable here are some of the things we can use:\n",
    "\n",
    "- Equality: `value == other_value`\n",
    "- Inequality `value != other_value`\n",
    "- Strictly less than `value < other_value`\n",
    "- Less than or equal`value <= other_value`\n",
    "- Inclusion `value in iterable`\n",
    "\n",
    "This a subset of the operators available.\n",
    "\n",
    "For example:"
   ]
  },
  {
   "cell_type": "code",
   "execution_count": 3,
   "id": "6f4f7909",
   "metadata": {},
   "outputs": [
    {
     "data": {
      "text/plain": [
       "False"
      ]
     },
     "execution_count": 3,
     "metadata": {},
     "output_type": "execute_result"
    }
   ],
   "source": [
    "value = 5\n",
    "other_value = 10\n",
    "\n",
    "value == other_value"
   ]
  },
  {
   "cell_type": "code",
   "execution_count": 4,
   "id": "7e4cc8d0",
   "metadata": {},
   "outputs": [
    {
     "data": {
      "text/plain": [
       "True"
      ]
     },
     "execution_count": 4,
     "metadata": {},
     "output_type": "execute_result"
    }
   ],
   "source": [
    "value != other_value"
   ]
  },
  {
   "cell_type": "code",
   "execution_count": 5,
   "id": "4691e2ee",
   "metadata": {},
   "outputs": [
    {
     "data": {
      "text/plain": [
       "True"
      ]
     },
     "execution_count": 5,
     "metadata": {},
     "output_type": "execute_result"
    }
   ],
   "source": [
    "value <= other_value"
   ]
  },
  {
   "cell_type": "code",
   "execution_count": 6,
   "id": "41f705c5",
   "metadata": {},
   "outputs": [
    {
     "data": {
      "text/plain": [
       "False"
      ]
     },
     "execution_count": 6,
     "metadata": {},
     "output_type": "execute_result"
    }
   ],
   "source": [
    "value < value"
   ]
  },
  {
   "cell_type": "code",
   "execution_count": 7,
   "id": "3f690bd4",
   "metadata": {},
   "outputs": [
    {
     "data": {
      "text/plain": [
       "True"
      ]
     },
     "execution_count": 7,
     "metadata": {},
     "output_type": "execute_result"
    }
   ],
   "source": [
    "value <= value"
   ]
  },
  {
   "cell_type": "code",
   "execution_count": 8,
   "id": "0a1d6dd3",
   "metadata": {},
   "outputs": [
    {
     "data": {
      "text/plain": [
       "False"
      ]
     },
     "execution_count": 8,
     "metadata": {},
     "output_type": "execute_result"
    }
   ],
   "source": [
    "value in (1, 2, 4, 19)"
   ]
  },
  {
   "cell_type": "markdown",
   "id": "1cb508bf",
   "metadata": {},
   "source": [
    "It is also possible to combine booleans to create new booleans:\n",
    "\n",
    "- And: `first_boolean and second_boolean`\n",
    "- Or: `first_boolean or second_boolean`"
   ]
  },
  {
   "cell_type": "code",
   "execution_count": 9,
   "id": "c148829a",
   "metadata": {},
   "outputs": [
    {
     "data": {
      "text/plain": [
       "True"
      ]
     },
     "execution_count": 9,
     "metadata": {},
     "output_type": "execute_result"
    }
   ],
   "source": [
    "True and True"
   ]
  },
  {
   "cell_type": "code",
   "execution_count": 10,
   "id": "fc618a22",
   "metadata": {},
   "outputs": [
    {
     "data": {
      "text/plain": [
       "False"
      ]
     },
     "execution_count": 10,
     "metadata": {},
     "output_type": "execute_result"
    }
   ],
   "source": [
    "False and True"
   ]
  },
  {
   "cell_type": "code",
   "execution_count": 11,
   "id": "89837105",
   "metadata": {},
   "outputs": [
    {
     "data": {
      "text/plain": [
       "True"
      ]
     },
     "execution_count": 11,
     "metadata": {},
     "output_type": "execute_result"
    }
   ],
   "source": [
    "True or False"
   ]
  },
  {
   "cell_type": "code",
   "execution_count": 12,
   "id": "69c382b7",
   "metadata": {},
   "outputs": [
    {
     "data": {
      "text/plain": [
       "False"
      ]
     },
     "execution_count": 12,
     "metadata": {},
     "output_type": "execute_result"
    }
   ],
   "source": [
    "False or False"
   ]
  },
  {
   "cell_type": "markdown",
   "id": "103e2912",
   "metadata": {},
   "source": [
    "(creating_an_iterable_with_a_given_number_of_items)=\n",
    "\n",
    "## Creating an iterable with a given number of items\n",
    "\n",
    "The `range` tool gives a given number of integers.\n",
    "\n",
    "````{tip}\n",
    "```\n",
    "range(number_of_integers)\n",
    "```\n",
    "````\n",
    "\n",
    "For example:"
   ]
  },
  {
   "cell_type": "code",
   "execution_count": 13,
   "id": "0ea5e9ac",
   "metadata": {},
   "outputs": [
    {
     "data": {
      "text/plain": [
       "(0, 1, 2, 3, 4, 5, 6, 7, 8, 9)"
      ]
     },
     "execution_count": 13,
     "metadata": {},
     "output_type": "execute_result"
    }
   ],
   "source": [
    "tuple(range(10))"
   ]
  },
  {
   "cell_type": "markdown",
   "id": "3c867744",
   "metadata": {},
   "source": [
    "```{attention}\n",
    "`range(N)` gives the integers from 0 until \\\\(N - 1\\\\) (inclusive).\n",
    "```\n",
    "\n",
    "It is also possible to pass two values as inputs so that we have a different lower bound:"
   ]
  },
  {
   "cell_type": "code",
   "execution_count": 14,
   "id": "88539215",
   "metadata": {},
   "outputs": [
    {
     "data": {
      "text/plain": [
       "(4, 5, 6, 7, 8, 9)"
      ]
     },
     "execution_count": 14,
     "metadata": {},
     "output_type": "execute_result"
    }
   ],
   "source": [
    "tuple(range(4, 10))"
   ]
  },
  {
   "cell_type": "markdown",
   "id": "7149ab36",
   "metadata": {},
   "source": [
    "It is also possible to pass a third value as an step size:"
   ]
  },
  {
   "cell_type": "code",
   "execution_count": 15,
   "id": "ccde8744",
   "metadata": {},
   "outputs": [
    {
     "data": {
      "text/plain": [
       "(4, 7)"
      ]
     },
     "execution_count": 15,
     "metadata": {},
     "output_type": "execute_result"
    }
   ],
   "source": [
    "tuple(range(4, 10, 3))"
   ]
  },
  {
   "cell_type": "markdown",
   "id": "ded436f6",
   "metadata": {},
   "source": [
    "## Creating permutations of a given set of elements\n",
    "\n",
    "The python `itertools` library has a `permutations` tool that will generate all\n",
    "permutations of a given set.\n",
    "\n",
    "````{tip}\n",
    "```\n",
    "itertools.permutations(iterable)\n",
    "```\n",
    "````"
   ]
  },
  {
   "cell_type": "code",
   "execution_count": 16,
   "id": "b229f6d5",
   "metadata": {},
   "outputs": [
    {
     "data": {
      "text/plain": [
       "(('Bread', 'Biscuits', 'Coffee'),\n",
       " ('Bread', 'Coffee', 'Biscuits'),\n",
       " ('Biscuits', 'Bread', 'Coffee'),\n",
       " ('Biscuits', 'Coffee', 'Bread'),\n",
       " ('Coffee', 'Bread', 'Biscuits'),\n",
       " ('Coffee', 'Biscuits', 'Bread'))"
      ]
     },
     "execution_count": 16,
     "metadata": {},
     "output_type": "execute_result"
    }
   ],
   "source": [
    "import itertools\n",
    "\n",
    "basket = (\"Bread\", \"Biscuits\", \"Coffee\")\n",
    "tuple(itertools.permutations(basket))"
   ]
  },
  {
   "cell_type": "markdown",
   "id": "50fbdd9a",
   "metadata": {},
   "source": [
    "It is possible to limit the size to only be permutations of size `r`:"
   ]
  },
  {
   "cell_type": "code",
   "execution_count": 17,
   "id": "1382c457",
   "metadata": {},
   "outputs": [
    {
     "data": {
      "text/plain": [
       "(('Bread', 'Biscuits'),\n",
       " ('Bread', 'Coffee'),\n",
       " ('Biscuits', 'Bread'),\n",
       " ('Biscuits', 'Coffee'),\n",
       " ('Coffee', 'Bread'),\n",
       " ('Coffee', 'Biscuits'))"
      ]
     },
     "execution_count": 17,
     "metadata": {},
     "output_type": "execute_result"
    }
   ],
   "source": [
    "tuple(itertools.permutations(basket, r=2))"
   ]
  },
  {
   "cell_type": "markdown",
   "id": "5611e9d0",
   "metadata": {},
   "source": [
    "## Creating combinations of a given set of elements\n",
    "\n",
    "The python `itertools` library has a `combinations` tool that will generate all combinations of size `r` of a given set:\n",
    "\n",
    "````{tip}\n",
    "```\n",
    "itertools.combinations(iterable, r)\n",
    "```\n",
    "````\n",
    "\n",
    "For example:"
   ]
  },
  {
   "cell_type": "code",
   "execution_count": 18,
   "id": "e6ef8233",
   "metadata": {},
   "outputs": [
    {
     "data": {
      "text/plain": [
       "(('Bread', 'Biscuits'), ('Bread', 'Coffee'), ('Biscuits', 'Coffee'))"
      ]
     },
     "execution_count": 18,
     "metadata": {},
     "output_type": "execute_result"
    }
   ],
   "source": [
    "basket = (\"Bread\", \"Biscuits\", \"Coffee\")\n",
    "tuple(itertools.combinations(basket, r=2))"
   ]
  },
  {
   "cell_type": "markdown",
   "id": "0ff959b6",
   "metadata": {},
   "source": [
    "A combination does not care about order so by default the combinations generated\n",
    "are sorted.\n",
    "\n",
    "## Adding items in a tuple\n",
    "\n",
    "We can compute the sum of items in a list using the `sum` tool:"
   ]
  },
  {
   "cell_type": "code",
   "execution_count": 19,
   "id": "1dd14921",
   "metadata": {},
   "outputs": [
    {
     "data": {
      "text/plain": [
       "6"
      ]
     },
     "execution_count": 19,
     "metadata": {},
     "output_type": "execute_result"
    }
   ],
   "source": [
    "sum((1, 2, 3))"
   ]
  },
  {
   "cell_type": "markdown",
   "id": "6dd628ea",
   "metadata": {},
   "source": [
    "We can also directly use the `sum` without specifically creating the list. This\n",
    "corresponds to the following mathematical notation:\n",
    "\n",
    "$$\n",
    "    \\sum_{s\\in S}f(s)\n",
    "$$\n",
    "\n",
    "and is done using the following:\n",
    "\n",
    "```python\n",
    "sum(f(object) for object in old_list)\n",
    "```\n",
    "\n",
    "Here is an example of calculating the following sum:\n",
    "\n",
    "$$\n",
    "    \\sum_{n=0}^{10} n ^ 2\n",
    "$$"
   ]
  },
  {
   "cell_type": "code",
   "execution_count": 20,
   "id": "a32c8e12",
   "metadata": {},
   "outputs": [
    {
     "data": {
      "text/plain": [
       "385"
      ]
     },
     "execution_count": 20,
     "metadata": {},
     "output_type": "execute_result"
    }
   ],
   "source": [
    "sum(n ** 2 for n in range(11))"
   ]
  },
  {
   "cell_type": "markdown",
   "id": "70a2013d",
   "metadata": {},
   "source": [
    "Finally we can compute conditionally sums by only summing over elements that\n",
    "meet a given condition using the following:\n",
    "\n",
    "```python\n",
    "sum(f(object) for object in old_list if condition)\n",
    "```\n",
    "\n",
    "Here is an example of calculating the following sum:\n",
    "\n",
    "$$\n",
    "    \\sum_{\\begin{array}{c}n=0\\\\\\text{ if }n\\text{ odd}\\end{array}}^{10} n ^ 2\n",
    "$$"
   ]
  },
  {
   "cell_type": "code",
   "execution_count": 21,
   "id": "5f50e047",
   "metadata": {},
   "outputs": [
    {
     "data": {
      "text/plain": [
       "165"
      ]
     },
     "execution_count": 21,
     "metadata": {},
     "output_type": "execute_result"
    }
   ],
   "source": [
    "sum(n ** 2 for n in range(11) if n % 2 == 1)"
   ]
  },
  {
   "cell_type": "markdown",
   "id": "a0ba98da",
   "metadata": {},
   "source": [
    "## Directly computing \\\\(n!\\\\)\n",
    "\n",
    "The `math` library has a `factorial` tool.\n",
    "\n",
    "````{tip}\n",
    "```\n",
    "math.factorial(N)\n",
    "```\n",
    "````"
   ]
  },
  {
   "cell_type": "code",
   "execution_count": 22,
   "id": "0eff0935",
   "metadata": {},
   "outputs": [
    {
     "data": {
      "text/plain": [
       "120"
      ]
     },
     "execution_count": 22,
     "metadata": {},
     "output_type": "execute_result"
    }
   ],
   "source": [
    "import math\n",
    "\n",
    "math.factorial(5)"
   ]
  },
  {
   "cell_type": "markdown",
   "id": "106c9a36",
   "metadata": {},
   "source": [
    "## Directly computing ${n \\choose i}$\n",
    "\n",
    "The `scipy.special` library has a `comb` tool.\n",
    "\n",
    "````{tip}\n",
    "```\n",
    "scipy.special.comb(n, i)\n",
    "```\n",
    "````\n",
    "\n",
    "For example:"
   ]
  },
  {
   "cell_type": "code",
   "execution_count": 23,
   "id": "3734a6c7",
   "metadata": {},
   "outputs": [
    {
     "data": {
      "text/plain": [
       "3.0"
      ]
     },
     "execution_count": 23,
     "metadata": {},
     "output_type": "execute_result"
    }
   ],
   "source": [
    "import scipy.special\n",
    "\n",
    "scipy.special.comb(3, 2)"
   ]
  },
  {
   "cell_type": "markdown",
   "id": "d53b35dc",
   "metadata": {},
   "source": [
    "## Directly computing $^n P_i$\n",
    "\n",
    "The `scipy.special` library has a `perm` tool.\n",
    "\n",
    "````{tip}\n",
    "```\n",
    "scipy.special.perm(n, i)\n",
    "```\n",
    "````"
   ]
  },
  {
   "cell_type": "code",
   "execution_count": 24,
   "id": "4ef18c7e",
   "metadata": {},
   "outputs": [
    {
     "data": {
      "text/plain": [
       "6.0"
      ]
     },
     "execution_count": 24,
     "metadata": {},
     "output_type": "execute_result"
    }
   ],
   "source": [
    "scipy.special.perm(3, 2)"
   ]
  }
 ],
 "metadata": {
  "jupytext": {
   "formats": "ipynb,md:myst",
   "text_representation": {
    "extension": ".md",
    "format_name": "myst",
    "format_version": 0.12,
    "jupytext_version": "1.6.0"
   }
  },
  "kernelspec": {
   "display_name": "Python 3",
   "language": "python",
   "name": "python3"
  },
  "language_info": {
   "codemirror_mode": {
    "name": "ipython",
    "version": 3
   },
   "file_extension": ".py",
   "mimetype": "text/x-python",
   "name": "python",
   "nbconvert_exporter": "python",
   "pygments_lexer": "ipython3",
   "version": "3.8.12"
  },
  "source_map": [
   13,
   32,
   35,
   48,
   50,
   70,
   77,
   81,
   85,
   89,
   93,
   95,
   102,
   106,
   110,
   114,
   116,
   132,
   134,
   142,
   144,
   148,
   150,
   163,
   168,
   172,
   174,
   188,
   191,
   200,
   202,
   223,
   225,
   240,
   242,
   254,
   258,
   272,
   276,
   288
  ]
 },
 "nbformat": 4,
 "nbformat_minor": 5
}